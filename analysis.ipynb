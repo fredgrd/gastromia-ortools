{
 "cells": [
  {
   "cell_type": "code",
   "execution_count": 6,
   "id": "20e2d421-9dad-4845-a1f9-bbb77d2db770",
   "metadata": {},
   "outputs": [],
   "source": [
    "\"\"\"Opportunistic Graph Search\"\"\"\n",
    "import sys, os\n",
    "import uuid\n",
    "import numpy as np\n",
    "import random\n",
    "import math\n",
    "import copy\n",
    "import pandas as pd\n",
    "\n",
    "from ortools.constraint_solver import routing_enums_pb2\n",
    "from ortools.constraint_solver import pywrapcp\n",
    "\n",
    "from natsort import index_natsorted"
   ]
  },
  {
   "cell_type": "code",
   "execution_count": 9,
   "id": "28a9e60f-9f27-42c9-b96f-680085739c5d",
   "metadata": {},
   "outputs": [],
   "source": [
    "df = pd.read_csv('20220530_mc1000_riders3_orders13_timeframe60__convenience_save.csv')"
   ]
  },
  {
   "cell_type": "code",
   "execution_count": 25,
   "id": "ad69faf8-a14d-4ecf-a6e2-d28a70f9a662",
   "metadata": {},
   "outputs": [],
   "source": [
    "df_max = df.groupby(['trial', 'rider']).max().sort_values(by='trial', key=lambda x: np.argsort(index_natsorted(df_max.index)))\n"
   ]
  },
  {
   "cell_type": "code",
   "execution_count": 31,
   "id": "e3facb9d-d917-4de9-91cb-1148a3d90fbc",
   "metadata": {},
   "outputs": [],
   "source": [
    "sorted_df = df_max"
   ]
  },
  {
   "cell_type": "code",
   "execution_count": 32,
   "id": "734dec0e-d55f-42db-ae4f-0d2c36c72998",
   "metadata": {},
   "outputs": [],
   "source": [
    "sorted_df.to_excel(\"20220530_mc1000_riders3_orders13_timeframe60_max_path_time.xlsx\", sheet_name='max_path_time')"
   ]
  },
  {
   "cell_type": "code",
   "execution_count": null,
   "id": "3f045c18-50dc-4f06-9237-b78c2b791b0e",
   "metadata": {},
   "outputs": [],
   "source": []
  }
 ],
 "metadata": {
  "kernelspec": {
   "display_name": "Python 3 (ipykernel)",
   "language": "python",
   "name": "python3"
  },
  "language_info": {
   "codemirror_mode": {
    "name": "ipython",
    "version": 3
   },
   "file_extension": ".py",
   "mimetype": "text/x-python",
   "name": "python",
   "nbconvert_exporter": "python",
   "pygments_lexer": "ipython3",
   "version": "3.10.4"
  }
 },
 "nbformat": 4,
 "nbformat_minor": 5
}
